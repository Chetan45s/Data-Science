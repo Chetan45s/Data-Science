{
 "cells": [
  {
   "cell_type": "markdown",
   "metadata": {},
   "source": [
    "# Name : Chetan Salmotra\n",
    "# Roll No : 142\n",
    "# PRN : 0120180135\n",
    "# Seat No : T204022\n",
    "\n",
    "______________________________________________________________________\n",
    "\n",
    "## Write a program to implement Precesion, Recall and F measure for document recommendation"
   ]
  },
  {
   "cell_type": "raw",
   "metadata": {},
   "source": [
    "In this practical,\n",
    "\n",
    "-> I have taken some documents and then classify them according to the similarity.\n",
    "\n",
    "-> Recommendation : \n",
    "    Good Suggestion is based on how similar other documents are wrt to asked document.\n",
    "    Bad Suggestion is based on how dis-similar other documents are wrt to asked document.\n",
    "    \n",
    "-> Precision, Recall, F Measuse :\n",
    "    These are implemneted after taking users review on model recommendation whether they like the document or  not.\n"
   ]
  },
  {
   "cell_type": "code",
   "execution_count": 1,
   "metadata": {},
   "outputs": [],
   "source": [
    "# For classificaiton according to the similarity we have used the TfidfVectorizer\n",
    "\n",
    "from sklearn.feature_extraction.text import TfidfVectorizer"
   ]
  },
  {
   "cell_type": "code",
   "execution_count": 2,
   "metadata": {},
   "outputs": [],
   "source": [
    "# Imported all the documents in txt format\n",
    "\n",
    "text_files = ['A.txt','B.txt','C.txt','D.txt','E.txt','F.txt','G.txt','H.txt','I.txt','train.txt']\n",
    "documents = [open(f, encoding=\"utf8\").read() for f in text_files]"
   ]
  },
  {
   "cell_type": "code",
   "execution_count": 3,
   "metadata": {},
   "outputs": [],
   "source": [
    "# Learn vocabulary and idf and return document-term matrix."
   ]
  },
  {
   "cell_type": "code",
   "execution_count": 4,
   "metadata": {},
   "outputs": [],
   "source": [
    "tfidf = TfidfVectorizer().fit_transform(documents)"
   ]
  },
  {
   "cell_type": "code",
   "execution_count": 5,
   "metadata": {},
   "outputs": [],
   "source": [
    "pairwise_similarity = (tfidf * tfidf.T).A"
   ]
  },
  {
   "cell_type": "code",
   "execution_count": 6,
   "metadata": {},
   "outputs": [
    {
     "name": "stdout",
     "output_type": "stream",
     "text": [
      "[[1.         0.47287464 0.41634557 0.58570731 0.45544869 0.46635931\n",
      "  0.53079948 0.5140417  0.48996179 0.76903164]\n",
      " [0.47287464 1.         0.33835338 0.36270152 0.32873591 0.32881975\n",
      "  0.34627136 0.42186823 0.40420491 0.63389742]\n",
      " [0.41634557 0.33835338 1.         0.32055092 0.28285502 0.33074758\n",
      "  0.37936827 0.32154711 0.3022013  0.56436345]\n",
      " [0.58570731 0.36270152 0.32055092 1.         0.32999244 0.38962184\n",
      "  0.3147151  0.40446325 0.40780501 0.68452605]\n",
      " [0.45544869 0.32873591 0.28285502 0.32999244 1.         0.23581636\n",
      "  0.46803382 0.46588825 0.32554981 0.61981737]\n",
      " [0.46635931 0.32881975 0.33074758 0.38962184 0.23581636 1.\n",
      "  0.37095189 0.40863538 0.41067214 0.61235629]\n",
      " [0.53079948 0.34627136 0.37936827 0.3147151  0.46803382 0.37095189\n",
      "  1.         0.46025613 0.41844489 0.69265009]\n",
      " [0.5140417  0.42186823 0.32154711 0.40446325 0.46588825 0.40863538\n",
      "  0.46025613 1.         0.41020071 0.7216276 ]\n",
      " [0.48996179 0.40420491 0.3022013  0.40780501 0.32554981 0.41067214\n",
      "  0.41844489 0.41020071 1.         0.66050031]\n",
      " [0.76903164 0.63389742 0.56436345 0.68452605 0.61981737 0.61235629\n",
      "  0.69265009 0.7216276  0.66050031 1.        ]]\n"
     ]
    }
   ],
   "source": [
    "# Now we have matrix of the pairwise Similarity as shown\n",
    "\n",
    "print(pairwise_similarity)"
   ]
  },
  {
   "cell_type": "code",
   "execution_count": 7,
   "metadata": {},
   "outputs": [],
   "source": [
    "# To visualize the data more clearly we are using pandas and converting above pairwise_similarity matrix\n",
    "# to DataFrame\n",
    "\n",
    "import pandas as pd"
   ]
  },
  {
   "cell_type": "code",
   "execution_count": 8,
   "metadata": {},
   "outputs": [],
   "source": [
    "var = ['A','B','C','D','E','F','G','H','I','Train']\n",
    "dataframe = pd.DataFrame(pairwise_similarity,columns=var,index=var)"
   ]
  },
  {
   "cell_type": "code",
   "execution_count": 9,
   "metadata": {},
   "outputs": [
    {
     "data": {
      "text/html": [
       "<div>\n",
       "<style scoped>\n",
       "    .dataframe tbody tr th:only-of-type {\n",
       "        vertical-align: middle;\n",
       "    }\n",
       "\n",
       "    .dataframe tbody tr th {\n",
       "        vertical-align: top;\n",
       "    }\n",
       "\n",
       "    .dataframe thead th {\n",
       "        text-align: right;\n",
       "    }\n",
       "</style>\n",
       "<table border=\"1\" class=\"dataframe\">\n",
       "  <thead>\n",
       "    <tr style=\"text-align: right;\">\n",
       "      <th></th>\n",
       "      <th>A</th>\n",
       "      <th>B</th>\n",
       "      <th>C</th>\n",
       "      <th>D</th>\n",
       "      <th>E</th>\n",
       "      <th>F</th>\n",
       "      <th>G</th>\n",
       "      <th>H</th>\n",
       "      <th>I</th>\n",
       "      <th>Train</th>\n",
       "    </tr>\n",
       "  </thead>\n",
       "  <tbody>\n",
       "    <tr>\n",
       "      <th>A</th>\n",
       "      <td>1.000000</td>\n",
       "      <td>0.472875</td>\n",
       "      <td>0.416346</td>\n",
       "      <td>0.585707</td>\n",
       "      <td>0.455449</td>\n",
       "      <td>0.466359</td>\n",
       "      <td>0.530799</td>\n",
       "      <td>0.514042</td>\n",
       "      <td>0.489962</td>\n",
       "      <td>0.769032</td>\n",
       "    </tr>\n",
       "    <tr>\n",
       "      <th>B</th>\n",
       "      <td>0.472875</td>\n",
       "      <td>1.000000</td>\n",
       "      <td>0.338353</td>\n",
       "      <td>0.362702</td>\n",
       "      <td>0.328736</td>\n",
       "      <td>0.328820</td>\n",
       "      <td>0.346271</td>\n",
       "      <td>0.421868</td>\n",
       "      <td>0.404205</td>\n",
       "      <td>0.633897</td>\n",
       "    </tr>\n",
       "    <tr>\n",
       "      <th>C</th>\n",
       "      <td>0.416346</td>\n",
       "      <td>0.338353</td>\n",
       "      <td>1.000000</td>\n",
       "      <td>0.320551</td>\n",
       "      <td>0.282855</td>\n",
       "      <td>0.330748</td>\n",
       "      <td>0.379368</td>\n",
       "      <td>0.321547</td>\n",
       "      <td>0.302201</td>\n",
       "      <td>0.564363</td>\n",
       "    </tr>\n",
       "    <tr>\n",
       "      <th>D</th>\n",
       "      <td>0.585707</td>\n",
       "      <td>0.362702</td>\n",
       "      <td>0.320551</td>\n",
       "      <td>1.000000</td>\n",
       "      <td>0.329992</td>\n",
       "      <td>0.389622</td>\n",
       "      <td>0.314715</td>\n",
       "      <td>0.404463</td>\n",
       "      <td>0.407805</td>\n",
       "      <td>0.684526</td>\n",
       "    </tr>\n",
       "    <tr>\n",
       "      <th>E</th>\n",
       "      <td>0.455449</td>\n",
       "      <td>0.328736</td>\n",
       "      <td>0.282855</td>\n",
       "      <td>0.329992</td>\n",
       "      <td>1.000000</td>\n",
       "      <td>0.235816</td>\n",
       "      <td>0.468034</td>\n",
       "      <td>0.465888</td>\n",
       "      <td>0.325550</td>\n",
       "      <td>0.619817</td>\n",
       "    </tr>\n",
       "    <tr>\n",
       "      <th>F</th>\n",
       "      <td>0.466359</td>\n",
       "      <td>0.328820</td>\n",
       "      <td>0.330748</td>\n",
       "      <td>0.389622</td>\n",
       "      <td>0.235816</td>\n",
       "      <td>1.000000</td>\n",
       "      <td>0.370952</td>\n",
       "      <td>0.408635</td>\n",
       "      <td>0.410672</td>\n",
       "      <td>0.612356</td>\n",
       "    </tr>\n",
       "    <tr>\n",
       "      <th>G</th>\n",
       "      <td>0.530799</td>\n",
       "      <td>0.346271</td>\n",
       "      <td>0.379368</td>\n",
       "      <td>0.314715</td>\n",
       "      <td>0.468034</td>\n",
       "      <td>0.370952</td>\n",
       "      <td>1.000000</td>\n",
       "      <td>0.460256</td>\n",
       "      <td>0.418445</td>\n",
       "      <td>0.692650</td>\n",
       "    </tr>\n",
       "    <tr>\n",
       "      <th>H</th>\n",
       "      <td>0.514042</td>\n",
       "      <td>0.421868</td>\n",
       "      <td>0.321547</td>\n",
       "      <td>0.404463</td>\n",
       "      <td>0.465888</td>\n",
       "      <td>0.408635</td>\n",
       "      <td>0.460256</td>\n",
       "      <td>1.000000</td>\n",
       "      <td>0.410201</td>\n",
       "      <td>0.721628</td>\n",
       "    </tr>\n",
       "    <tr>\n",
       "      <th>I</th>\n",
       "      <td>0.489962</td>\n",
       "      <td>0.404205</td>\n",
       "      <td>0.302201</td>\n",
       "      <td>0.407805</td>\n",
       "      <td>0.325550</td>\n",
       "      <td>0.410672</td>\n",
       "      <td>0.418445</td>\n",
       "      <td>0.410201</td>\n",
       "      <td>1.000000</td>\n",
       "      <td>0.660500</td>\n",
       "    </tr>\n",
       "    <tr>\n",
       "      <th>Train</th>\n",
       "      <td>0.769032</td>\n",
       "      <td>0.633897</td>\n",
       "      <td>0.564363</td>\n",
       "      <td>0.684526</td>\n",
       "      <td>0.619817</td>\n",
       "      <td>0.612356</td>\n",
       "      <td>0.692650</td>\n",
       "      <td>0.721628</td>\n",
       "      <td>0.660500</td>\n",
       "      <td>1.000000</td>\n",
       "    </tr>\n",
       "  </tbody>\n",
       "</table>\n",
       "</div>"
      ],
      "text/plain": [
       "              A         B         C         D         E         F         G  \\\n",
       "A      1.000000  0.472875  0.416346  0.585707  0.455449  0.466359  0.530799   \n",
       "B      0.472875  1.000000  0.338353  0.362702  0.328736  0.328820  0.346271   \n",
       "C      0.416346  0.338353  1.000000  0.320551  0.282855  0.330748  0.379368   \n",
       "D      0.585707  0.362702  0.320551  1.000000  0.329992  0.389622  0.314715   \n",
       "E      0.455449  0.328736  0.282855  0.329992  1.000000  0.235816  0.468034   \n",
       "F      0.466359  0.328820  0.330748  0.389622  0.235816  1.000000  0.370952   \n",
       "G      0.530799  0.346271  0.379368  0.314715  0.468034  0.370952  1.000000   \n",
       "H      0.514042  0.421868  0.321547  0.404463  0.465888  0.408635  0.460256   \n",
       "I      0.489962  0.404205  0.302201  0.407805  0.325550  0.410672  0.418445   \n",
       "Train  0.769032  0.633897  0.564363  0.684526  0.619817  0.612356  0.692650   \n",
       "\n",
       "              H         I     Train  \n",
       "A      0.514042  0.489962  0.769032  \n",
       "B      0.421868  0.404205  0.633897  \n",
       "C      0.321547  0.302201  0.564363  \n",
       "D      0.404463  0.407805  0.684526  \n",
       "E      0.465888  0.325550  0.619817  \n",
       "F      0.408635  0.410672  0.612356  \n",
       "G      0.460256  0.418445  0.692650  \n",
       "H      1.000000  0.410201  0.721628  \n",
       "I      0.410201  1.000000  0.660500  \n",
       "Train  0.721628  0.660500  1.000000  "
      ]
     },
     "execution_count": 9,
     "metadata": {},
     "output_type": "execute_result"
    }
   ],
   "source": [
    "# Here we have matrix relation which defines the similarity of two documents\n",
    "# for example we can see that similarity of 'A' and 'A' is 1.0000 which means both are same.\n",
    "\n",
    "dataframe"
   ]
  },
  {
   "cell_type": "code",
   "execution_count": 15,
   "metadata": {},
   "outputs": [],
   "source": [
    "# Recommendation of the document \n",
    "\n",
    "# take name of the document as input\n",
    "def documentation_recommendation(name):  \n",
    "    \n",
    "    '''\n",
    "    accessing the crossponding row from the datafram matrix and converting it to np array\n",
    "    \n",
    "    [1.         0.47287464 0.41634557 0.58570731 0.45544869 \n",
    "     0.46635931 0.53079948 0.5140417  0.48996179 0.76903164]\n",
    "     \n",
    "     '''\n",
    "    arraySet = dataframe[name].values\n",
    "    \n",
    "    # slicing to remove self similarity\n",
    "    \n",
    "    remove_self_similarity = arraySet[1:]\n",
    "\n",
    "    ind = []\n",
    "    for m in ['A','B','C','D','E','F','G','H','I','Train']:\n",
    "        if name != m:\n",
    "            ind.append(m)\n",
    "            \n",
    "    '''\n",
    "    Converting above np array to DataFrame and sorting in ascending order so that document with\n",
    "    good similarity show above\n",
    "    \n",
    "    We have taken a value above which we are considering recommendation as Good and below that as bad.\n",
    "    \n",
    "    Atlast we return two DataFram of Good and Bad suggestions of the documents\n",
    "    '''\n",
    "    dataframe_of_similarity = pd.DataFrame(remove_self_similarity,columns=['Similarity'],index=ind)\n",
    "    good_values = dataframe_of_similarity.loc[dataframe_of_similarity['Similarity']>= 0.5].sort_values('Similarity',ascending=False)\n",
    "    bad_values = dataframe_of_similarity.loc[dataframe_of_similarity['Similarity'] < 0.5].sort_values('Similarity',ascending=False)\n",
    "    return good_values.head(),bad_values.head()"
   ]
  },
  {
   "cell_type": "code",
   "execution_count": 16,
   "metadata": {},
   "outputs": [
    {
     "data": {
      "text/html": [
       "<div>\n",
       "<style scoped>\n",
       "    .dataframe tbody tr th:only-of-type {\n",
       "        vertical-align: middle;\n",
       "    }\n",
       "\n",
       "    .dataframe tbody tr th {\n",
       "        vertical-align: top;\n",
       "    }\n",
       "\n",
       "    .dataframe thead th {\n",
       "        text-align: right;\n",
       "    }\n",
       "</style>\n",
       "<table border=\"1\" class=\"dataframe\">\n",
       "  <thead>\n",
       "    <tr style=\"text-align: right;\">\n",
       "      <th></th>\n",
       "      <th>Similarity</th>\n",
       "    </tr>\n",
       "  </thead>\n",
       "  <tbody>\n",
       "    <tr>\n",
       "      <th>Train</th>\n",
       "      <td>0.769032</td>\n",
       "    </tr>\n",
       "    <tr>\n",
       "      <th>D</th>\n",
       "      <td>0.585707</td>\n",
       "    </tr>\n",
       "    <tr>\n",
       "      <th>G</th>\n",
       "      <td>0.530799</td>\n",
       "    </tr>\n",
       "    <tr>\n",
       "      <th>H</th>\n",
       "      <td>0.514042</td>\n",
       "    </tr>\n",
       "  </tbody>\n",
       "</table>\n",
       "</div>"
      ],
      "text/plain": [
       "       Similarity\n",
       "Train    0.769032\n",
       "D        0.585707\n",
       "G        0.530799\n",
       "H        0.514042"
      ]
     },
     "execution_count": 16,
     "metadata": {},
     "output_type": "execute_result"
    }
   ],
   "source": [
    "# Lets get the recommendation of the document 'A'\n",
    "\n",
    "# Good Suggestions\n",
    "documentation_recommendation('A')[0]"
   ]
  },
  {
   "cell_type": "code",
   "execution_count": 17,
   "metadata": {},
   "outputs": [
    {
     "data": {
      "text/html": [
       "<div>\n",
       "<style scoped>\n",
       "    .dataframe tbody tr th:only-of-type {\n",
       "        vertical-align: middle;\n",
       "    }\n",
       "\n",
       "    .dataframe tbody tr th {\n",
       "        vertical-align: top;\n",
       "    }\n",
       "\n",
       "    .dataframe thead th {\n",
       "        text-align: right;\n",
       "    }\n",
       "</style>\n",
       "<table border=\"1\" class=\"dataframe\">\n",
       "  <thead>\n",
       "    <tr style=\"text-align: right;\">\n",
       "      <th></th>\n",
       "      <th>Similarity</th>\n",
       "    </tr>\n",
       "  </thead>\n",
       "  <tbody>\n",
       "    <tr>\n",
       "      <th>I</th>\n",
       "      <td>0.489962</td>\n",
       "    </tr>\n",
       "    <tr>\n",
       "      <th>B</th>\n",
       "      <td>0.472875</td>\n",
       "    </tr>\n",
       "    <tr>\n",
       "      <th>F</th>\n",
       "      <td>0.466359</td>\n",
       "    </tr>\n",
       "    <tr>\n",
       "      <th>E</th>\n",
       "      <td>0.455449</td>\n",
       "    </tr>\n",
       "    <tr>\n",
       "      <th>C</th>\n",
       "      <td>0.416346</td>\n",
       "    </tr>\n",
       "  </tbody>\n",
       "</table>\n",
       "</div>"
      ],
      "text/plain": [
       "   Similarity\n",
       "I    0.489962\n",
       "B    0.472875\n",
       "F    0.466359\n",
       "E    0.455449\n",
       "C    0.416346"
      ]
     },
     "execution_count": 17,
     "metadata": {},
     "output_type": "execute_result"
    }
   ],
   "source": [
    "# Bad suggestion\n",
    "documentation_recommendation('A')[1]"
   ]
  },
  {
   "cell_type": "code",
   "execution_count": 18,
   "metadata": {},
   "outputs": [],
   "source": [
    "# Storing result in the np array\n",
    "\n",
    "good_doc = documentation_recommendation('A')[0].index.values\n",
    "bad_doc = documentation_recommendation('A')[1].index.values"
   ]
  },
  {
   "cell_type": "code",
   "execution_count": 19,
   "metadata": {},
   "outputs": [],
   "source": [
    "'''\n",
    "This function takes the two array good_doc and bad_doc and returns the Precision, Recall and F measure of the model\n",
    "\n",
    "'''\n",
    "\n",
    "def take_user_review(good_doc,bad_doc):\n",
    "    tp = 0\n",
    "    fp = 0\n",
    "    fn = 0\n",
    "    tn = 0\n",
    "    for rev in good_doc:\n",
    "        review = str(input(f\"Do you like {rev} : \"))\n",
    "        if review == \"yes\" or review == \"yeah\":\n",
    "            tp += 1\n",
    "        else:\n",
    "            fp += 1\n",
    "    for rev in bad_doc:\n",
    "        review = str(input(f\"Do you like {rev} : \"))\n",
    "        if review == \"yes\" or review == \"yeah\":\n",
    "            fn += 1\n",
    "        else:\n",
    "            tn += 1\n",
    "    precision = (tp/(tp+fp))\n",
    "    recall = (tp/(tp+fn))\n",
    "    f1_matric = 2*((precision*recall)/(precision+recall))\n",
    "    \n",
    "\n",
    "    return precision,recall,f1_matric"
   ]
  },
  {
   "cell_type": "code",
   "execution_count": 20,
   "metadata": {},
   "outputs": [
    {
     "name": "stdout",
     "output_type": "stream",
     "text": [
      "Do you like Train : yes\n",
      "Do you like D : yes\n",
      "Do you like G : yes\n",
      "Do you like H : yes\n",
      "Do you like I : yes\n",
      "Do you like B : no\n",
      "Do you like F : no\n",
      "Do you like E : no\n",
      "Do you like C : yes\n"
     ]
    }
   ],
   "source": [
    "# taking users reviews and predicting\n",
    "\n",
    "precision,recall,f1_matric = take_user_review(good_doc,bad_doc)"
   ]
  },
  {
   "cell_type": "code",
   "execution_count": 21,
   "metadata": {},
   "outputs": [
    {
     "name": "stdout",
     "output_type": "stream",
     "text": [
      "Precision : 1.0\n",
      "Recall : 0.6666666666666666\n",
      "F Measure : 0.8\n"
     ]
    }
   ],
   "source": [
    "print(f\"Precision : {precision}\")\n",
    "print(f\"Recall : {recall}\")\n",
    "print(f\"F Measure : {f1_matric}\")"
   ]
  },
  {
   "cell_type": "markdown",
   "metadata": {},
   "source": [
    "===================================== Final Output ====================================="
   ]
  }
 ],
 "metadata": {
  "kernelspec": {
   "display_name": "Python 3.7.6 64-bit ('base': conda)",
   "language": "python",
   "name": "python37664bitbasecondabd9cb73d6b9d45e9b9832ff240b95403"
  },
  "language_info": {
   "codemirror_mode": {
    "name": "ipython",
    "version": 3
   },
   "file_extension": ".py",
   "mimetype": "text/x-python",
   "name": "python",
   "nbconvert_exporter": "python",
   "pygments_lexer": "ipython3",
   "version": "3.7.6"
  }
 },
 "nbformat": 4,
 "nbformat_minor": 4
}
